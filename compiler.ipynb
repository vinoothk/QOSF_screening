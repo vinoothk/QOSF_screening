{
 "cells": [
  {
   "cell_type": "code",
   "execution_count": 5,
   "metadata": {},
   "outputs": [],
   "source": [
    "####GATE DECOMPOSITION#####\n",
    "'''\n",
    "h: rz(pi/2) rx(pi/2) rz(pi/2)\n",
    "y: rx(pi)rz(pi)\n",
    "ry(theta): rz(-pi/2) rx(theta) rz(pi/2)\n",
    "cx :  rz(pi/2)[q1] rx(pi/2)[q1] rz(pi/2)[q1] cz[q0][q1] rz(pi/2)[q1] rx(pi/2)[q1] rz(pi/2)[q1]\n",
    "'''\n",
    "###########################\n",
    "gate_map = {'h': 'rz(pi/2)' + '\\n' + 'rx(pi/2)' + '\\n' + 'rz(pi/2)', 'x': 'rx(pi)', 'y': 'rx(pi)rz(pi)', 'z': 'rz(pi)',\n",
    "        'rz': 'rz','rx': 'rx','i' : 'rx(0)','cz':'cz', 'u1': 'rz'}\n",
    "\n",
    "\n",
    "def get_native_ry(QASM_gates,qubits):\n",
    "    theta = QASM_gates.split('(')[1].split(')')[0]\n",
    "    return ['rz(-pi/2)',  'rx' + '(' + str(theta) + ')' , 'rz(pi/2)']\n",
    "\n",
    "def get_native_cx(QASM_gates,qubits):\n",
    "    q0 = qubits.split(']')[0] + ']'\n",
    "    q1 = qubits.split(',')[1]\n",
    "    \n",
    "    h = 'rz(pi/2) ' + q1,'rx(pi/2) '+  q1 , 'rz(pi/2) ' + q1\n",
    "    cx = ['rz(pi/2) ' + q1,'rx(pi/2) '+  q1,'rz(pi/2) ' + q1,'cz ' + q0 + ','+ q1  , 'rz(pi/2) ' + q1,'rx(pi/2) '+  q1,'rz(pi/2) ' + q1]\n",
    "    return cx\n",
    "\n",
    "def get_native_gates(QASM_gates,qubits):\n",
    "    if gate_map.get(QASM_gates,None) != None:\n",
    "        gates = gate_map[QASM_gates].split('\\n')\n",
    "        native_gates = []\n",
    "        for gate in gates:\n",
    "            native_gates.append(str(gate))\n",
    "            \n",
    "        return native_gates\n",
    "    \n",
    "    elif QASM_gates.split('(')[0] == 'ry':\n",
    "        return get_native_ry(QASM_gates,qubits)\n",
    "    elif  QASM_gates.split(' ')[0] == 'cx':\n",
    "        return get_native_cx(QASM_gates,qubits)\n",
    "    else:\n",
    "        print('error - native gate not found for',QASM_gates)\n",
    "        \n",
    "output_file = open(\"output_deutsch.qasm\", \"w+\")\n",
    "        \n",
    "with open('deutsch.qasm') as f:\n",
    "    \n",
    "    for line in range(6):\n",
    "        output_file.write(f.readline())\n",
    "        \n",
    "    datafile = f.readlines()\n",
    "    for line in datafile:\n",
    "        if 'measure' in line:\n",
    "            output_file.write('measure q -> c;')\n",
    "            break\n",
    "        else:\n",
    "            QASM_gate,qubits = line.split(' ')\n",
    "            \n",
    "        if 'rx' in QASM_gate:\n",
    "            output_file.write(QASM_gate +' '+ qubits)\n",
    "        elif 'rz' in QASM_gate:\n",
    "            output_file.write(QASM_gate + ' '+qubits)\n",
    "        elif 'u1' in QASM_gate:\n",
    "            output_file.write(QASM_gate.replace('u1','rz',1) + ' '+qubits)\n",
    "        elif 'cx' in QASM_gate:\n",
    "            native_cx_gates = get_native_cx(QASM_gate,qubits)\n",
    "            for gate in native_cx_gates:\n",
    "                output_file.write(gate)\n",
    "        else:\n",
    "            native_gates = get_native_gates(QASM_gate,qubits)\n",
    "            for gate in native_gates:\n",
    "                output_file.write(gate+' '+qubits)\n",
    "          \n",
    "           \n",
    "output_file.close()\n",
    "    "
   ]
  },
  {
   "cell_type": "markdown",
   "metadata": {},
   "source": [
    "Input:3qubit QFT QASM code\n",
    "output: compiled QASM code with restricted gate set\n",
    "\n",
    "\n",
    "Tested on IBM Q Experience:https://quantum-computing.ibm.com/composer/new-experiment?initial=N4IgdghgtgpiBcIDCB7KAHAlgGxgEwH0BFAMQBUQAaEARwgGcoEQB5ABQFEA5IgQQGUAsgAIATADoADAG4AOmExgAxtgCueGMNm0Y2TACMAjOMVLtcsPJoAnGAHNhNANoBWALoWlth0tcf58tYAXgAUWAD0ogCUjk6S-mDWAB5hmJExzvEWwanpsVmBoREALBlxCTkR0bGGFSlVZbXZRWnVzk3ySkH5bpTtFS15-dn1rY0DuW1OHYmhALQl482TS4GjQ9MTDTUJXT19m8vbw2srO0dj54W5pVezZyeJ61MzlZePb%2BEAHGUF98dOUR1B6ArbvUGebqZXrOIEXDZw04AxH-cEonILNI-WLowZTdHPMq4kEovbQg7E5HAqnw-Fg75E%2Bm3D54xkjEn0umQnYUzlspFovk4iaY8LMiHXGkChFC2G7KGbXm0-lPDnK4Xw8WUwXsqWomUWWAMVS2RzCOYAPmESmkVBAGnoXkw6AALpgUGBmCAAL5AA"
   ]
  },
  {
   "cell_type": "code",
   "execution_count": null,
   "metadata": {},
   "outputs": [],
   "source": []
  },
  {
   "cell_type": "markdown",
   "metadata": {},
   "source": [
    "Input:Deutsch-Jozsa QASM code with two qubits for f(x)=x\n",
    "output: compiled QASM code with restricted gate set.\n",
    "\n",
    "\n",
    "Tested on IBM Q Experience: https://quantum-computing.ibm.com/composer/new-experiment?initial=N4IgdghgtgpiBcICqYAuBLVAbGATABAMboBOhArpiADQgCOEAzlAiAPIAKAogHICKAQQDKAWXwAmAHQAGANwAdMOjCEs5XDHzz6MLOgBGARknLC2hWEV0SMAOb46AbQCsAXQuEb9wi-eLFJAAeABQADugAlA6OACx%2BYCQAXmHoAPTiUU4AzPFBKemZjjkWSfkZ0cUByeEF0XElITXlTvVVZYWtCdVpzbG5jT0dud21LfGEiRWu1GMlI72deU1Dc%2B11w2vZ-ZtFG8tTFrBM5DYO%2BAC0AHxEsjQgGoye6KEYAPZgrCAAvkA\n",
    "    "
   ]
  },
  {
   "cell_type": "markdown",
   "metadata": {},
   "source": [
    "Analysis: ->Routing / Mapping circuits on to physical devices\n",
    "          ->optimizing gate scheduling such as lookahead/stochastic scheduling to reduce SWAP operations \n",
    "          ->Substitute less erroneous gates for more error prone operations\n",
    "            \n",
    "    Number of gates and hence depth of the circuit increases with the restricted gate set. Due to low Coherence time in\n",
    "    the current NISQ systems, qubits cannot hold the information for long time.optimal mapping of circuits to physical devices can reduce the error rates.\n",
    "    SWAP operations are time consuming and erroneous. various mapping techniques are used to map circuits depending upon the quit connectivity.\n",
    "    These architecural decisions help the hardware vendors to design processors with more connectivity and avoid bottle neck nodes.\n",
    "    "
   ]
  },
  {
   "cell_type": "markdown",
   "metadata": {},
   "source": [
    "References:https://github.com/Qiskit/openqasm/blob/master/examples/ibmqx2/Deutsch_Algorithm.qasm\n"
   ]
  }
 ],
 "metadata": {
  "kernelspec": {
   "display_name": "Python 3",
   "language": "python",
   "name": "python3"
  },
  "language_info": {
   "codemirror_mode": {
    "name": "ipython",
    "version": 3
   },
   "file_extension": ".py",
   "mimetype": "text/x-python",
   "name": "python",
   "nbconvert_exporter": "python",
   "pygments_lexer": "ipython3",
   "version": "3.8.4"
  }
 },
 "nbformat": 4,
 "nbformat_minor": 4
}
