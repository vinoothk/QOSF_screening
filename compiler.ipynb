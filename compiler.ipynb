{
 "cells": [
  {
   "cell_type": "code",
   "execution_count": 5,
   "metadata": {},
   "outputs": [],
   "source": [
    "dict1 = {'h': 'rz(pi/2)' + '\\n' + 'rx(pi/2)' + '\\n' + 'rz(pi/2)', 'x': 'rx(pi)', 'y': 'rx(pi)rz(pi)', 'z': 'rz(pi)',\n",
    "        'rz': 'rz','rx': 'rx','i' : 'rx(0)','cz':'cz', 'u1': 'rz'}\n",
    "\n",
    "##TODO remove \\n from dict\n",
    "\n",
    "def get_native_ry(QASM_gates,qubits):\n",
    "    theta = QASM_gates.split('(')[1].split(')')[0]\n",
    "    return ['rz(-pi/2)',  'rx' + '(' + str(theta) + ')' , 'rz(pi/2)']\n",
    "\n",
    "def get_native_cx(QASM_gates,qubits):\n",
    "    q0 = qubits.split(']')[0] + ']'\n",
    "    q1 = qubits.split(',')[1]\n",
    "    \n",
    "    h = 'rz(pi/2) ' + q1,'rx(pi/2) '+  q1 , 'rz(pi/2) ' + q1\n",
    "    cx = ['rz(pi/2) ' + q1,'rx(pi/2) '+  q1,'rz(pi/2) ' + q1,'cz ' + q0 + ','+ q1  , 'rz(pi/2) ' + q1,'rx(pi/2) '+  q1,'rz(pi/2) ' + q1]\n",
    "    return cx\n",
    "\n",
    "def get_native_gates(QASM_gates,qubits):\n",
    "    if dict1.get(QASM_gates,None) != None:\n",
    "        gates = dict1[QASM_gates].split('\\n')\n",
    "        native_gates = []\n",
    "        for gate in gates:\n",
    "            native_gates.append(str(gate))\n",
    "            \n",
    "        return native_gates\n",
    "    \n",
    "    elif QASM_gates.split('(')[0] == 'ry':\n",
    "        return get_native_ry(QASM_gates,qubits)\n",
    "    elif  QASM_gates.split(' ')[0] == 'cx':\n",
    "        return get_native_cx(QASM_gates,qubits)\n",
    "    else:\n",
    "        print('error - native gate not found for',QASM_gates)\n",
    "        \n",
    "output_file = open(\"output_deutsch.qasm\", \"w+\")\n",
    "        \n",
    "with open('deutsch.qasm') as f:\n",
    "    \n",
    "    for line in range(6):\n",
    "        output_file.write(f.readline())\n",
    "        \n",
    "    datafile = f.readlines()\n",
    "    for line in datafile:\n",
    "        if 'measure' in line:\n",
    "            output_file.write('measure q -> c;')\n",
    "            break\n",
    "        else:\n",
    "            QASM_gate,qubits = line.split(' ')\n",
    "            \n",
    "        if 'rx' in QASM_gate:\n",
    "            output_file.write(QASM_gate +' '+ qubits)\n",
    "        elif 'rz' in QASM_gate:\n",
    "            output_file.write(QASM_gate + ' '+qubits)\n",
    "        elif 'u1' in QASM_gate:\n",
    "            output_file.write(QASM_gate.replace('u1','rz',1) + ' '+qubits)\n",
    "        elif 'cx' in QASM_gate:\n",
    "            native_cx_gates = get_native_cx(QASM_gate,qubits)\n",
    "            for gate in native_cx_gates:\n",
    "                output_file.write(gate)\n",
    "        else:\n",
    "            native_gates = get_native_gates(QASM_gate,qubits)\n",
    "            for gate in native_gates:\n",
    "                output_file.write(gate+' '+qubits)\n",
    "          \n",
    "           \n",
    "output_file.close()\n",
    "    "
   ]
  },
  {
   "cell_type": "markdown",
   "metadata": {},
   "source": [
    "\n",
    "Input:3qubit QFT QASM code\n",
    "output: compiled QASM code with restricted gate set\n",
    "Tested on IBM Q Experience:https://quantum-computing.ibm.com/composer/new-experiment?initial=N4IgdghgtgpiBcIDCB7KAHAlgGxgEwH0BFAMQBUQAaEARwgGcoEQB5ABQFEA5IgQQGUAsgAIATADoADAG4AOmExgAxtgCueGMNm0Y2TACMAjOMVLtcsPJoAnGAHNhNANoBWALoWlth0tcf58tYAXgAUWAD0ogCUjk6S-mDWAB5hmJExzvEWwanpsVmBoREALBlxCTkR0bGGFSlVZbXZRWnVzk3ySkH5bpTtFS15-dn1rY0DuW1OHYmhALQl482TS4GjQ9MTDTUJXT19m8vbw2srO0dj54W5pVezZyeJ61MzlZePb%2BEAHGUF98dOUR1B6ArbvUGebqZXrOIEXDZw04AxH-cEonILNI-WLowZTdHPMq4kEovbQg7E5HAqnw-Fg75E%2Bm3D54xkjEn0umQnYUzlspFovk4iaY8LMiHXGkChFC2G7KGbXm0-lPDnK4Xw8WUwXsqWomUWWAMVS2RzCOYAPmESmkVBAGnoXkw6AALpgUGBmCAAL5AA"
   ]
  },
  {
   "cell_type": "code",
   "execution_count": null,
   "metadata": {},
   "outputs": [],
   "source": [
    "Input:Deutsch-Jozsa QASM code with two qubits for f(x)=x"
   ]
  },
  {
   "cell_type": "markdown",
   "metadata": {},
   "source": [
    "References:https://github.com/Qiskit/openqasm/blob/master/examples/ibmqx2/Deutsch_Algorithm.qasm\n"
   ]
  }
 ],
 "metadata": {
  "kernelspec": {
   "display_name": "Python 3",
   "language": "python",
   "name": "python3"
  },
  "language_info": {
   "codemirror_mode": {
    "name": "ipython",
    "version": 3
   },
   "file_extension": ".py",
   "mimetype": "text/x-python",
   "name": "python",
   "nbconvert_exporter": "python",
   "pygments_lexer": "ipython3",
   "version": "3.8.4"
  }
 },
 "nbformat": 4,
 "nbformat_minor": 4
}
